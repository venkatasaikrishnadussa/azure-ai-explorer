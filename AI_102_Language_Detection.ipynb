{
  "nbformat": 4,
  "nbformat_minor": 0,
  "metadata": {
    "colab": {
      "provenance": [],
      "authorship_tag": "ABX9TyP/R9FBYitJK95xjB8gkj0p",
      "include_colab_link": true
    },
    "kernelspec": {
      "name": "python3",
      "display_name": "Python 3"
    },
    "language_info": {
      "name": "python"
    }
  },
  "cells": [
    {
      "cell_type": "markdown",
      "metadata": {
        "id": "view-in-github",
        "colab_type": "text"
      },
      "source": [
        "<a href=\"https://colab.research.google.com/github/venkatasaikrishnadussa/azure-ai-explorer/blob/main/AI_102_Language_Detection.ipynb\" target=\"_parent\"><img src=\"https://colab.research.google.com/assets/colab-badge.svg\" alt=\"Open In Colab\"/></a>"
      ]
    },
    {
      "cell_type": "markdown",
      "source": [
        "# Language Detection using Azure AI services"
      ],
      "metadata": {
        "id": "i6JRVBntZ_7z"
      }
    },
    {
      "cell_type": "markdown",
      "source": [
        "This section sets up the notebook to use Azure AI services for language detection.\n"
      ],
      "metadata": {
        "id": "b3tku00S8iE0"
      }
    },
    {
      "cell_type": "markdown",
      "source": [
        "## REST Client Approach to Detect Lanugage"
      ],
      "metadata": {
        "id": "6inLzI4T-vrP"
      }
    },
    {
      "cell_type": "markdown",
      "source": [
        "Import necessary libraries"
      ],
      "metadata": {
        "id": "7Xefjsyg9Ig7"
      }
    },
    {
      "cell_type": "code",
      "source": [
        "import requests\n",
        "import json"
      ],
      "metadata": {
        "id": "ZuSoNQjqauQU"
      },
      "execution_count": 1,
      "outputs": []
    },
    {
      "cell_type": "markdown",
      "source": [
        "This section defines the body of the request to the Azure AI Language API.\n"
      ],
      "metadata": {
        "id": "IObbNvgB9Ksl"
      }
    },
    {
      "cell_type": "code",
      "source": [
        "# Define the request body\n",
        "body = {\n",
        "    \"documents\":[\n",
        "        {\n",
        "            \"id\": 1,\n",
        "            \"text\": \"bonjour\"\n",
        "        }\n",
        "    ]\n",
        "}\n",
        "\n",
        "# Convert the body to JSON format\n",
        "json_body = json.dumps(body, indent=2)\n",
        "print(json_body)"
      ],
      "metadata": {
        "colab": {
          "base_uri": "https://localhost:8080/"
        },
        "id": "82PuSYWw1PmN",
        "outputId": "c875dac2-89ed-46ee-a5e7-1b376df0ea21"
      },
      "execution_count": 2,
      "outputs": [
        {
          "output_type": "stream",
          "name": "stdout",
          "text": [
            "{\n",
            "  \"documents\": [\n",
            "    {\n",
            "      \"id\": 1,\n",
            "      \"text\": \"bonjour\"\n",
            "    }\n",
            "  ]\n",
            "}\n"
          ]
        }
      ]
    },
    {
      "cell_type": "markdown",
      "source": [
        " This section retrieves the Azure subscription key from user data and defines the API endpoint.\n"
      ],
      "metadata": {
        "id": "H9DTbiD29jsQ"
      }
    },
    {
      "cell_type": "code",
      "source": [
        "# Get the Azure subscription key from user data\n",
        "from google.colab import userdata\n",
        "subscription_key = userdata.get('AZURE_SUBSCRIPTION_KEY')\n",
        "\n",
        "# Define the API endpoint\n",
        "API_ENDPOINT = \"https://day01account.cognitiveservices.azure.com\"\n",
        "\n",
        "# Define the headers for the request\n",
        "headers = {\"Content-Type\": \"application/json\", \"Ocp-Apim-Subscription-Key\": subscription_key}"
      ],
      "metadata": {
        "id": "4i2NdUwj4AuH"
      },
      "execution_count": 3,
      "outputs": []
    },
    {
      "cell_type": "markdown",
      "source": [
        "Send the request to the API"
      ],
      "metadata": {
        "id": "DZkG8mUs9wFY"
      }
    },
    {
      "cell_type": "code",
      "source": [
        "response = requests.post(url = f\"{API_ENDPOINT}/text/analytics/v3.1/languages?\", data=json_body, headers=headers)\n",
        "response.json()"
      ],
      "metadata": {
        "colab": {
          "base_uri": "https://localhost:8080/"
        },
        "id": "COMe85ek1ht-",
        "outputId": "364ffd7f-3cc6-44cf-cd97-516a2148f20d"
      },
      "execution_count": 4,
      "outputs": [
        {
          "output_type": "execute_result",
          "data": {
            "text/plain": [
              "{'documents': [{'id': '1',\n",
              "   'detectedLanguage': {'name': 'French',\n",
              "    'iso6391Name': 'fr',\n",
              "    'confidenceScore': 1.0},\n",
              "   'warnings': []}],\n",
              " 'errors': [],\n",
              " 'modelVersion': '2024-04-01'}"
            ]
          },
          "metadata": {},
          "execution_count": 4
        }
      ]
    },
    {
      "cell_type": "markdown",
      "source": [
        "This section extracts the detected language from the API response."
      ],
      "metadata": {
        "id": "ybCbbVHL-Cia"
      }
    },
    {
      "cell_type": "code",
      "source": [
        "response.json()[\"documents\"][0][\"detectedLanguage\"][\"name\"]"
      ],
      "metadata": {
        "colab": {
          "base_uri": "https://localhost:8080/",
          "height": 35
        },
        "id": "LqZJxAYD2UjX",
        "outputId": "1534de3e-e2f4-4684-b5e7-5bf9b4cf502a"
      },
      "execution_count": 5,
      "outputs": [
        {
          "output_type": "execute_result",
          "data": {
            "text/plain": [
              "'French'"
            ],
            "application/vnd.google.colaboratory.intrinsic+json": {
              "type": "string"
            }
          },
          "metadata": {},
          "execution_count": 5
        }
      ]
    },
    {
      "cell_type": "markdown",
      "source": [
        "Define a function to get the language of a text"
      ],
      "metadata": {
        "id": "vqzmqPG6-Fwq"
      }
    },
    {
      "cell_type": "code",
      "source": [
        "def get_language(text: str) -> str:\n",
        "    body = {\n",
        "        \"documents\":[\n",
        "            {\n",
        "                \"id\": 1,\n",
        "                \"text\": text\n",
        "            }\n",
        "        ]\n",
        "    }\n",
        "    headers = {\"Content-Type\": \"application/json\", \"Ocp-Apim-Subscription-Key\": subscription_key}\n",
        "    response = requests.post(url = f\"{API_ENDPOINT}/text/analytics/v3.1/languages?\", data=json.dumps(body), headers=headers)\n",
        "    return response.json()[\"documents\"][0][\"detectedLanguage\"][\"name\"]\n"
      ],
      "metadata": {
        "id": "UlTYOA0Q3z3E"
      },
      "execution_count": 6,
      "outputs": []
    },
    {
      "cell_type": "markdown",
      "source": [
        "This section tests the get_language function with different texts."
      ],
      "metadata": {
        "id": "2Ex8Qzb9-J1V"
      }
    },
    {
      "cell_type": "code",
      "source": [
        "get_language(\"hello\")"
      ],
      "metadata": {
        "colab": {
          "base_uri": "https://localhost:8080/",
          "height": 35
        },
        "id": "ONDQlmiB5UcX",
        "outputId": "f2328035-9694-4e99-840f-fd932975ae0d"
      },
      "execution_count": 7,
      "outputs": [
        {
          "output_type": "execute_result",
          "data": {
            "text/plain": [
              "'English'"
            ],
            "application/vnd.google.colaboratory.intrinsic+json": {
              "type": "string"
            }
          },
          "metadata": {},
          "execution_count": 7
        }
      ]
    },
    {
      "cell_type": "code",
      "source": [
        "get_language(\"bonjour\")"
      ],
      "metadata": {
        "colab": {
          "base_uri": "https://localhost:8080/",
          "height": 35
        },
        "id": "DLyaDQRj5Wh5",
        "outputId": "a84317e9-ef26-493a-898b-2f4e18312f32"
      },
      "execution_count": 8,
      "outputs": [
        {
          "output_type": "execute_result",
          "data": {
            "text/plain": [
              "'French'"
            ],
            "application/vnd.google.colaboratory.intrinsic+json": {
              "type": "string"
            }
          },
          "metadata": {},
          "execution_count": 8
        }
      ]
    },
    {
      "cell_type": "code",
      "source": [
        "get_language(\"hola\")"
      ],
      "metadata": {
        "colab": {
          "base_uri": "https://localhost:8080/",
          "height": 35
        },
        "id": "Rn3gdwST5ZHp",
        "outputId": "c4a3a78c-72ad-436b-e426-3029138d06a4"
      },
      "execution_count": 9,
      "outputs": [
        {
          "output_type": "execute_result",
          "data": {
            "text/plain": [
              "'Spanish'"
            ],
            "application/vnd.google.colaboratory.intrinsic+json": {
              "type": "string"
            }
          },
          "metadata": {},
          "execution_count": 9
        }
      ]
    },
    {
      "cell_type": "code",
      "source": [
        "get_language(\"hallo\")"
      ],
      "metadata": {
        "colab": {
          "base_uri": "https://localhost:8080/",
          "height": 35
        },
        "id": "F7ccF1-75ax2",
        "outputId": "e5d87b1f-716f-4e1b-f785-75e0c39c3fb6"
      },
      "execution_count": 10,
      "outputs": [
        {
          "output_type": "execute_result",
          "data": {
            "text/plain": [
              "'German'"
            ],
            "application/vnd.google.colaboratory.intrinsic+json": {
              "type": "string"
            }
          },
          "metadata": {},
          "execution_count": 10
        }
      ]
    },
    {
      "cell_type": "markdown",
      "source": [
        "## SDK Approach to Detect Language"
      ],
      "metadata": {
        "id": "F1DUDukM-5Tb"
      }
    },
    {
      "cell_type": "markdown",
      "source": [
        "This section installs the azure-ai-textanalytics library."
      ],
      "metadata": {
        "id": "V8I1-RHX-PEQ"
      }
    },
    {
      "cell_type": "code",
      "source": [
        "!pip install azure-ai-textanalytics==5.3.0"
      ],
      "metadata": {
        "colab": {
          "base_uri": "https://localhost:8080/"
        },
        "id": "DGbs8f0v5oCe",
        "outputId": "90bdd351-257a-4c5e-bd14-46ba3eeb65b7"
      },
      "execution_count": 11,
      "outputs": [
        {
          "output_type": "stream",
          "name": "stdout",
          "text": [
            "Requirement already satisfied: azure-ai-textanalytics==5.3.0 in /usr/local/lib/python3.10/dist-packages (5.3.0)\n",
            "Requirement already satisfied: azure-core<2.0.0,>=1.24.0 in /usr/local/lib/python3.10/dist-packages (from azure-ai-textanalytics==5.3.0) (1.31.0)\n",
            "Requirement already satisfied: azure-common~=1.1 in /usr/local/lib/python3.10/dist-packages (from azure-ai-textanalytics==5.3.0) (1.1.28)\n",
            "Requirement already satisfied: isodate<1.0.0,>=0.6.1 in /usr/local/lib/python3.10/dist-packages (from azure-ai-textanalytics==5.3.0) (0.6.1)\n",
            "Requirement already satisfied: typing-extensions>=4.0.1 in /usr/local/lib/python3.10/dist-packages (from azure-ai-textanalytics==5.3.0) (4.12.2)\n",
            "Requirement already satisfied: requests>=2.21.0 in /usr/local/lib/python3.10/dist-packages (from azure-core<2.0.0,>=1.24.0->azure-ai-textanalytics==5.3.0) (2.32.3)\n",
            "Requirement already satisfied: six>=1.11.0 in /usr/local/lib/python3.10/dist-packages (from azure-core<2.0.0,>=1.24.0->azure-ai-textanalytics==5.3.0) (1.16.0)\n",
            "Requirement already satisfied: charset-normalizer<4,>=2 in /usr/local/lib/python3.10/dist-packages (from requests>=2.21.0->azure-core<2.0.0,>=1.24.0->azure-ai-textanalytics==5.3.0) (3.3.2)\n",
            "Requirement already satisfied: idna<4,>=2.5 in /usr/local/lib/python3.10/dist-packages (from requests>=2.21.0->azure-core<2.0.0,>=1.24.0->azure-ai-textanalytics==5.3.0) (3.8)\n",
            "Requirement already satisfied: urllib3<3,>=1.21.1 in /usr/local/lib/python3.10/dist-packages (from requests>=2.21.0->azure-core<2.0.0,>=1.24.0->azure-ai-textanalytics==5.3.0) (2.0.7)\n",
            "Requirement already satisfied: certifi>=2017.4.17 in /usr/local/lib/python3.10/dist-packages (from requests>=2.21.0->azure-core<2.0.0,>=1.24.0->azure-ai-textanalytics==5.3.0) (2024.8.30)\n"
          ]
        }
      ]
    },
    {
      "cell_type": "markdown",
      "source": [
        "This section imports necessary classes from the Azure AI Text Analytics library."
      ],
      "metadata": {
        "id": "LjH7c32I-TNX"
      }
    },
    {
      "cell_type": "code",
      "source": [
        "from azure.ai.textanalytics import TextAnalyticsClient\n",
        "from azure.core.credentials import AzureKeyCredential"
      ],
      "metadata": {
        "id": "9x6fYOR16po3"
      },
      "execution_count": 12,
      "outputs": []
    },
    {
      "cell_type": "markdown",
      "source": [
        "This section creates a TextAnalyticsClient object using the Azure subscription key and API endpoint."
      ],
      "metadata": {
        "id": "Y655ziYG-Weg"
      }
    },
    {
      "cell_type": "code",
      "source": [
        "credential = AzureKeyCredential(key=subscription_key)\n",
        "client = TextAnalyticsClient(endpoint=API_ENDPOINT, credential=credential)"
      ],
      "metadata": {
        "id": "xujeyrvM6zNt"
      },
      "execution_count": 13,
      "outputs": []
    },
    {
      "cell_type": "markdown",
      "source": [
        "This section uses the TextAnalyticsClient to detect the language of a text."
      ],
      "metadata": {
        "id": "3qH1uiN9-cpC"
      }
    },
    {
      "cell_type": "code",
      "source": [
        "client.detect_language(documents=[\"bonjour\"])[0].primary_language.name"
      ],
      "metadata": {
        "id": "RAehs07r7A00",
        "colab": {
          "base_uri": "https://localhost:8080/",
          "height": 35
        },
        "outputId": "bd81ab45-f36c-4cc7-c31d-6c4dd5b52212"
      },
      "execution_count": 14,
      "outputs": [
        {
          "output_type": "execute_result",
          "data": {
            "text/plain": [
              "'French'"
            ],
            "application/vnd.google.colaboratory.intrinsic+json": {
              "type": "string"
            }
          },
          "metadata": {},
          "execution_count": 14
        }
      ]
    },
    {
      "cell_type": "markdown",
      "source": [
        "Define a function to get the language of a text"
      ],
      "metadata": {
        "id": "G30oSDXF_JzD"
      }
    },
    {
      "cell_type": "code",
      "source": [
        "def detect_language(text: str) -> str:\n",
        "    return client.detect_language(documents=[text])[0].primary_language.name"
      ],
      "metadata": {
        "id": "I2Fgsx5z7GbA"
      },
      "execution_count": 15,
      "outputs": []
    },
    {
      "cell_type": "markdown",
      "source": [
        "This section uses the TextAnalyticsClient to detect the language of a text."
      ],
      "metadata": {
        "id": "JR54_lvG_FGZ"
      }
    },
    {
      "cell_type": "code",
      "source": [
        "detect_language(\"hello\")"
      ],
      "metadata": {
        "colab": {
          "base_uri": "https://localhost:8080/",
          "height": 35
        },
        "id": "TnQ6b6kq-ipp",
        "outputId": "c62101a1-d2ee-436b-e0c3-7a8dd7cda55c"
      },
      "execution_count": 16,
      "outputs": [
        {
          "output_type": "execute_result",
          "data": {
            "text/plain": [
              "'English'"
            ],
            "application/vnd.google.colaboratory.intrinsic+json": {
              "type": "string"
            }
          },
          "metadata": {},
          "execution_count": 16
        }
      ]
    },
    {
      "cell_type": "code",
      "source": [
        "detect_language(\"bonjour\")"
      ],
      "metadata": {
        "colab": {
          "base_uri": "https://localhost:8080/",
          "height": 35
        },
        "id": "F68AlaHF-lgG",
        "outputId": "34c5eaa5-3800-4cca-a16c-9d1b818e11f9"
      },
      "execution_count": 17,
      "outputs": [
        {
          "output_type": "execute_result",
          "data": {
            "text/plain": [
              "'French'"
            ],
            "application/vnd.google.colaboratory.intrinsic+json": {
              "type": "string"
            }
          },
          "metadata": {},
          "execution_count": 17
        }
      ]
    },
    {
      "cell_type": "code",
      "source": [
        "detect_language(\"hola\")"
      ],
      "metadata": {
        "colab": {
          "base_uri": "https://localhost:8080/",
          "height": 35
        },
        "id": "BGgOgTjb-nC0",
        "outputId": "9fc39240-c800-4d62-8df9-510b56454e46"
      },
      "execution_count": 18,
      "outputs": [
        {
          "output_type": "execute_result",
          "data": {
            "text/plain": [
              "'Spanish'"
            ],
            "application/vnd.google.colaboratory.intrinsic+json": {
              "type": "string"
            }
          },
          "metadata": {},
          "execution_count": 18
        }
      ]
    },
    {
      "cell_type": "code",
      "source": [
        "detect_language(\"hallo\")"
      ],
      "metadata": {
        "colab": {
          "base_uri": "https://localhost:8080/",
          "height": 35
        },
        "id": "ChxRpWD5-pFL",
        "outputId": "61c6cf7a-86fb-403d-c885-8c7d3a58ba3d"
      },
      "execution_count": 19,
      "outputs": [
        {
          "output_type": "execute_result",
          "data": {
            "text/plain": [
              "'German'"
            ],
            "application/vnd.google.colaboratory.intrinsic+json": {
              "type": "string"
            }
          },
          "metadata": {},
          "execution_count": 19
        }
      ]
    },
    {
      "cell_type": "code",
      "source": [],
      "metadata": {
        "id": "FN4K-NxC-sD8"
      },
      "execution_count": 19,
      "outputs": []
    }
  ]
}